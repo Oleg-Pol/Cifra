{
  "nbformat": 4,
  "nbformat_minor": 0,
  "metadata": {
    "colab": {
      "provenance": [],
      "mount_file_id": "1rYAlan9W4axFqJt4c-J7_89ThaFCBY3h",
      "authorship_tag": "ABX9TyMr6jTUST7gGLSGBD/bDTk9",
      "include_colab_link": true
    },
    "kernelspec": {
      "name": "python3",
      "display_name": "Python 3"
    },
    "language_info": {
      "name": "python"
    }
  },
  "cells": [
    {
      "cell_type": "markdown",
      "metadata": {
        "id": "view-in-github",
        "colab_type": "text"
      },
      "source": [
        "<a href=\"https://colab.research.google.com/github/Oleg-Pol/Cifra/blob/main/Untitled0.ipynb\" target=\"_parent\"><img src=\"https://colab.research.google.com/assets/colab-badge.svg\" alt=\"Open In Colab\"/></a>"
      ]
    },
    {
      "cell_type": "markdown",
      "source": [
        "# Пример использования Markdown\n",
        "Нужно сделать:\n",
        "\n",
        "\n",
        "1.   Список\n",
        "2.   Рисунок\n",
        "3.   Таблицу\n",
        "4.   Ссылку\n",
        "\n",
        "\n",
        "![An image](https://hsto.org/getpro/moikrug/uploads/company/218/645/913/logo/medium_a68ad9662fbc4b06311a7297c5321cdf.png)\n",
        "\n",
        "\n",
        "[Видео на ютубе](https://www.youtube.com/watch?v=dQw4w9WgXcQ)\n",
        "\n",
        "First column name  | Second column name \n",
        "-------------------|------------------\n",
        "Row 1, Col 1       | Row 1, Col 2 \n",
        "Row 2, Col 1       | Row 2, Col 2 \n",
        "\n",
        "\n",
        "\n",
        "asddasda"
      ],
      "metadata": {
        "id": "VjiHnwNX9tMw"
      }
    }
  ]
}